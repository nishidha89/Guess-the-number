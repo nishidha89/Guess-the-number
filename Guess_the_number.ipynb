{
 "cells": [
  {
   "cell_type": "code",
   "execution_count": 1,
   "metadata": {},
   "outputs": [
    {
     "name": "stdout",
     "output_type": "stream",
     "text": [
      "Enter your name\n",
      "i\n",
      "Hii i I am thinking of a number between 1 to 30\n",
      "Take a guess\n",
      "8\n",
      "guess is low\n",
      "Take a guess\n",
      "99\n",
      "guess is high\n",
      "Take a guess\n",
      "9\n",
      "guess is low\n",
      "Take a guess\n",
      "21\n",
      "guess is low\n",
      "Take a guess\n",
      "24\n",
      "guess is low\n",
      "Take a guess\n",
      "28\n",
      "guess is high\n",
      "Take a guess\n",
      "27\n",
      "Nope. The number  was thinking of was 26\n"
     ]
    }
   ],
   "source": [
    "import random\n",
    "def guessnumber():\n",
    "    x=random.randint(1,30)\n",
    "    name=input('Enter your name\\n')\n",
    "    print('Hii',name,'I am thinking of a number between 1 to 30')\n",
    "    n=int(input('Take a guess\\n'))\n",
    "    guess=1\n",
    "    while(guess<7):\n",
    "        if(x==n):\n",
    "            print('you guessed it')\n",
    "            break\n",
    "        elif(x>n):\n",
    "            print('guess is low')\n",
    "            n=int(input('Take a guess\\n'))\n",
    "        else:\n",
    "            print('guess is high')\n",
    "            n=int(input('Take a guess\\n'))\n",
    "        guess+=1\n",
    "    else:\n",
    "        print('Nope. The number  was thinking of was',x)\n",
    "guessnumber()"
   ]
  },
  {
   "cell_type": "code",
   "execution_count": null,
   "metadata": {},
   "outputs": [],
   "source": []
  }
 ],
 "metadata": {
  "kernelspec": {
   "display_name": "Python 3",
   "language": "python",
   "name": "python3"
  },
  "language_info": {
   "codemirror_mode": {
    "name": "ipython",
    "version": 3
   },
   "file_extension": ".py",
   "mimetype": "text/x-python",
   "name": "python",
   "nbconvert_exporter": "python",
   "pygments_lexer": "ipython3",
   "version": "3.8.5"
  }
 },
 "nbformat": 4,
 "nbformat_minor": 4
}
